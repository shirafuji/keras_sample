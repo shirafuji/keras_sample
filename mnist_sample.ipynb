{
  "nbformat": 4,
  "nbformat_minor": 0,
  "metadata": {
    "colab": {
      "name": "mnist_sample.ipynb",
      "provenance": [],
      "collapsed_sections": [],
      "toc_visible": true,
      "include_colab_link": true
    },
    "kernelspec": {
      "name": "python3",
      "display_name": "Python 3"
    },
    "accelerator": "GPU"
  },
  "cells": [
    {
      "cell_type": "markdown",
      "metadata": {
        "id": "view-in-github",
        "colab_type": "text"
      },
      "source": [
        "<a href=\"https://colab.research.google.com/github/shirafuji/keras_sample/blob/master/mnist_sample.ipynb\" target=\"_parent\"><img src=\"https://colab.research.google.com/assets/colab-badge.svg\" alt=\"Open In Colab\"/></a>"
      ]
    },
    {
      "cell_type": "markdown",
      "metadata": {
        "id": "IREljL1ufQnr",
        "colab_type": "text"
      },
      "source": [
        "#mnist_sample\n",
        "google colaboratoryを利用してmnistを学習するsample codeです。"
      ]
    },
    {
      "cell_type": "code",
      "metadata": {
        "id": "wbF3cus-fvGd",
        "colab_type": "code",
        "outputId": "e9ed7d41-5cfe-44e9-9015-65a7e2b168d3",
        "colab": {
          "base_uri": "https://localhost:8080/",
          "height": 612
        }
      },
      "source": [
        "!apt-get install lshw"
      ],
      "execution_count": 13,
      "outputs": [
        {
          "output_type": "stream",
          "text": [
            "Reading package lists... Done\n",
            "Building dependency tree       \n",
            "Reading state information... Done\n",
            "The following additional packages will be installed:\n",
            "  libpci3 pciutils usbutils\n",
            "The following NEW packages will be installed:\n",
            "  libpci3 lshw pciutils usbutils\n",
            "0 upgraded, 4 newly installed, 0 to remove and 28 not upgraded.\n",
            "Need to get 721 kB of archives.\n",
            "After this operation, 2,870 kB of additional disk space will be used.\n",
            "Get:1 http://archive.ubuntu.com/ubuntu bionic-updates/main amd64 libpci3 amd64 1:3.5.2-1ubuntu1.1 [24.1 kB]\n",
            "Get:2 http://archive.ubuntu.com/ubuntu bionic-updates/main amd64 lshw amd64 02.18-0.1ubuntu6.18.04.1 [231 kB]\n",
            "Get:3 http://archive.ubuntu.com/ubuntu bionic-updates/main amd64 pciutils amd64 1:3.5.2-1ubuntu1.1 [257 kB]\n",
            "Get:4 http://archive.ubuntu.com/ubuntu bionic/main amd64 usbutils amd64 1:007-4build1 [208 kB]\n",
            "Fetched 721 kB in 0s (3,096 kB/s)\n",
            "Selecting previously unselected package libpci3:amd64.\n",
            "(Reading database ... 132681 files and directories currently installed.)\n",
            "Preparing to unpack .../libpci3_1%3a3.5.2-1ubuntu1.1_amd64.deb ...\n",
            "Unpacking libpci3:amd64 (1:3.5.2-1ubuntu1.1) ...\n",
            "Selecting previously unselected package lshw.\n",
            "Preparing to unpack .../lshw_02.18-0.1ubuntu6.18.04.1_amd64.deb ...\n",
            "Unpacking lshw (02.18-0.1ubuntu6.18.04.1) ...\n",
            "Selecting previously unselected package pciutils.\n",
            "Preparing to unpack .../pciutils_1%3a3.5.2-1ubuntu1.1_amd64.deb ...\n",
            "Unpacking pciutils (1:3.5.2-1ubuntu1.1) ...\n",
            "Selecting previously unselected package usbutils.\n",
            "Preparing to unpack .../usbutils_1%3a007-4build1_amd64.deb ...\n",
            "Unpacking usbutils (1:007-4build1) ...\n",
            "Setting up lshw (02.18-0.1ubuntu6.18.04.1) ...\n",
            "Setting up usbutils (1:007-4build1) ...\n",
            "Processing triggers for libc-bin (2.27-3ubuntu1) ...\n",
            "Processing triggers for man-db (2.8.3-2ubuntu0.1) ...\n",
            "Setting up libpci3:amd64 (1:3.5.2-1ubuntu1.1) ...\n",
            "Setting up pciutils (1:3.5.2-1ubuntu1.1) ...\n",
            "Processing triggers for libc-bin (2.27-3ubuntu1) ...\n"
          ],
          "name": "stdout"
        }
      ]
    },
    {
      "cell_type": "code",
      "metadata": {
        "id": "skaQMfWUfYO-",
        "colab_type": "code",
        "outputId": "2d708bfc-c073-449e-c591-e58bbf670544",
        "colab": {
          "base_uri": "https://localhost:8080/",
          "height": 1000
        }
      },
      "source": [
        "\t!lshw"
      ],
      "execution_count": 14,
      "outputs": [
        {
          "output_type": "stream",
          "text": [
            "\r\rDMI\r\r   \rSMP\r\r   \rPA-RISC\r\r       \rdevice-tree\r\r           \rSPD\r\r   \rmemory\r\r      \r/proc/cpuinfo\r\r             \rCPUID\r\r     \rPCI (sysfs)\r\r           \rISA PnP\r\r       \rPCMCIA\r\r      \rPCMCIA\r\r      \rVirtual I/O (VIRTIO) devices\r\r                            \rkernel device tree (sysfs)\r\r                          \rUSB\r\r   \rIDE\r\r   \rSCSI\r\r    \rNetwork interfaces\r\r                  \rFramebuffer devices\r\r                   \rDisplay\r\r       \rCPUFreq\r\r       \rABI\r\r   \r\r7c05648d2a27\n",
            "    description: Computer\n",
            "    width: 64 bits\n",
            "    capabilities: smp vsyscall32\n",
            "  *-core\n",
            "       description: Motherboard\n",
            "       physical id: 0\n",
            "     *-memory\n",
            "          description: System memory\n",
            "          physical id: 0\n",
            "          size: 12GiB\n",
            "     *-cpu\n",
            "          product: Intel(R) Xeon(R) CPU @ 2.30GHz\n",
            "          vendor: Intel Corp.\n",
            "          physical id: 1\n",
            "          bus info: cpu@0\n",
            "          width: 64 bits\n",
            "          capabilities: fpu fpu_exception wp vme de pse tsc msr pae mce cx8 apic sep mtrr pge mca cmov pat pse36 clflush mmx fxsr sse sse2 ss ht syscall nx pdpe1gb rdtscp x86-64 constant_tsc rep_good nopl xtopology nonstop_tsc cpuid tsc_known_freq pni pclmulqdq ssse3 fma cx16 pcid sse4_1 sse4_2 x2apic movbe popcnt aes xsave avx f16c rdrand hypervisor lahf_lm abm invpcid_single ssbd ibrs ibpb stibp fsgsbase tsc_adjust bmi1 avx2 smep bmi2 erms invpcid xsaveopt arat md_clear arch_capabilities\n",
            "     *-pci\n",
            "          description: Host bridge\n",
            "          product: 440FX - 82441FX PMC [Natoma]\n",
            "          vendor: Intel Corporation\n",
            "          physical id: 100\n",
            "          bus info: pci@0000:00:00.0\n",
            "          version: 02\n",
            "          width: 32 bits\n",
            "          clock: 33MHz\n",
            "        *-isa\n",
            "             description: ISA bridge\n",
            "             product: 82371AB/EB/MB PIIX4 ISA\n",
            "             vendor: Intel Corporation\n",
            "             physical id: 1\n",
            "             bus info: pci@0000:00:01.0\n",
            "             version: 03\n",
            "             width: 32 bits\n",
            "             clock: 33MHz\n",
            "             capabilities: isa\n",
            "             configuration: latency=0\n",
            "        *-bridge UNCLAIMED\n",
            "             description: Bridge\n",
            "             product: 82371AB/EB/MB PIIX4 ACPI\n",
            "             vendor: Intel Corporation\n",
            "             physical id: 1.3\n",
            "             bus info: pci@0000:00:01.3\n",
            "             version: 03\n",
            "             width: 32 bits\n",
            "             clock: 33MHz\n",
            "             capabilities: bridge\n",
            "             configuration: latency=0\n",
            "        *-generic\n",
            "             description: Non-VGA unclassified device\n",
            "             product: Virtio SCSI\n",
            "             vendor: Red Hat, Inc.\n",
            "             physical id: 3\n",
            "             bus info: pci@0000:00:03.0\n",
            "             version: 00\n",
            "             width: 32 bits\n",
            "             clock: 33MHz\n",
            "             capabilities: msix bus_master cap_list\n",
            "             configuration: driver=virtio-pci latency=0\n",
            "             resources: irq:11 ioport:c080(size=64) memory:fd000000-fd00007f\n",
            "           *-virtio0 UNCLAIMED\n",
            "                description: Virtual I/O device\n",
            "                physical id: 0\n",
            "                bus info: virtio@0\n",
            "                configuration: driver=virtio_scsi\n",
            "        *-display\n",
            "             description: 3D controller\n",
            "             product: GK210GL [Tesla K80]\n",
            "             vendor: NVIDIA Corporation\n",
            "             physical id: 4\n",
            "             bus info: pci@0000:00:04.0\n",
            "             version: a1\n",
            "             width: 64 bits\n",
            "             clock: 33MHz\n",
            "             capabilities: msi pm bus_master cap_list\n",
            "             configuration: driver=nvidia latency=0\n",
            "             resources: iomemory:40-3f iomemory:80-7f irq:33 memory:fc000000-fcffffff memory:400000000-7ffffffff memory:800000000-801ffffff ioport:c000(size=128)\n",
            "        *-network\n",
            "             description: Ethernet controller\n",
            "             product: Virtio network device\n",
            "             vendor: Red Hat, Inc.\n",
            "             physical id: 5\n",
            "             bus info: pci@0000:00:05.0\n",
            "             version: 00\n",
            "             width: 32 bits\n",
            "             clock: 33MHz\n",
            "             capabilities: msix bus_master cap_list\n",
            "             configuration: driver=virtio-pci latency=0\n",
            "             resources: irq:10 ioport:c0c0(size=64) memory:fd001000-fd00107f\n",
            "           *-virtio1 UNCLAIMED\n",
            "                description: Virtual I/O device\n",
            "                physical id: 0\n",
            "                bus info: virtio@1\n",
            "                configuration: driver=virtio_net\n",
            "  *-network\n",
            "       description: Ethernet interface\n",
            "       physical id: 1\n",
            "       logical name: eth0\n",
            "       serial: 02:42:ac:1c:00:02\n",
            "       size: 10Gbit/s\n",
            "       capabilities: ethernet physical\n",
            "       configuration: autonegotiation=off broadcast=yes driver=veth driverversion=1.0 duplex=full ip=172.28.0.2 link=yes multicast=yes port=twisted pair speed=10Gbit/s\n"
          ],
          "name": "stdout"
        }
      ]
    },
    {
      "cell_type": "markdown",
      "metadata": {
        "id": "zJD58lHSgAE8",
        "colab_type": "text"
      },
      "source": [
        "GPUを認識しているかの確認"
      ]
    },
    {
      "cell_type": "code",
      "metadata": {
        "id": "w3akGwf4gFiU",
        "colab_type": "code",
        "outputId": "88c7d922-2a5c-4b53-eee3-2c933f0b8fbb",
        "colab": {
          "base_uri": "https://localhost:8080/",
          "height": 34
        }
      },
      "source": [
        "import tensorflow as tf\n",
        "tf.test.gpu_device_name()"
      ],
      "execution_count": 15,
      "outputs": [
        {
          "output_type": "execute_result",
          "data": {
            "text/plain": [
              "'/device:GPU:0'"
            ]
          },
          "metadata": {
            "tags": []
          },
          "execution_count": 15
        }
      ]
    },
    {
      "cell_type": "code",
      "metadata": {
        "id": "IdZg091FgIxV",
        "colab_type": "code",
        "colab": {}
      },
      "source": [
        "# 使用するライブラリのインポート\n",
        "import keras\n",
        "from keras.datasets import mnist\n",
        "from keras.models import Sequential\n",
        "from keras.layers import Dense, Dropout, InputLayer\n",
        "from keras.optimizers import RMSprop\n",
        "\n",
        "import matplotlib.pyplot as plt"
      ],
      "execution_count": 0,
      "outputs": []
    },
    {
      "cell_type": "markdown",
      "metadata": {
        "id": "H5Uaz06Y8iSN",
        "colab_type": "text"
      },
      "source": [
        "## シンプルなニューラルネットワーク"
      ]
    },
    {
      "cell_type": "code",
      "metadata": {
        "id": "GH6087uttt-Z",
        "colab_type": "code",
        "outputId": "f412d702-d573-45ec-aa1e-7f758f6257b8",
        "colab": {
          "base_uri": "https://localhost:8080/",
          "height": 85
        }
      },
      "source": [
        "# mnistデータの読み込み(x:訓練, y:正解)\n",
        "(x_train, y_train), (x_test, y_test) = mnist.load_data()\n",
        "print(x_train.shape)\n",
        "print(x_test.shape)\n",
        "print(y_train.shape)\n",
        "print(y_test.shape)"
      ],
      "execution_count": 17,
      "outputs": [
        {
          "output_type": "stream",
          "text": [
            "(60000, 28, 28)\n",
            "(10000, 28, 28)\n",
            "(60000,)\n",
            "(10000,)\n"
          ],
          "name": "stdout"
        }
      ]
    },
    {
      "cell_type": "code",
      "metadata": {
        "id": "gzvsIzD7uXnt",
        "colab_type": "code",
        "colab": {}
      },
      "source": [
        "# 入力データの加工\n",
        "x_train = x_train.reshape(60000, 784)\n",
        "x_test = x_test.reshape(10000, 784)\n"
      ],
      "execution_count": 0,
      "outputs": []
    },
    {
      "cell_type": "code",
      "metadata": {
        "id": "xINdUODgu7vd",
        "colab_type": "code",
        "colab": {}
      },
      "source": [
        "# 文字列データをfloat型に変換\n",
        "x_train = x_train.astype('float32')\n",
        "x_test = x_test.astype('float32')\n",
        "# 0~255までの数値を0~1に変換\n",
        "x_train /= 255\n",
        "x_test /= 255"
      ],
      "execution_count": 0,
      "outputs": []
    },
    {
      "cell_type": "code",
      "metadata": {
        "id": "6Wr2GzZNvx2m",
        "colab_type": "code",
        "colab": {}
      },
      "source": [
        "# 正解データの加工(1と0を用いた配列に変換)\n",
        "y_train = keras.utils.to_categorical(y_train, 10)\n",
        "y_test  = keras.utils.to_categorical(y_test, 10)"
      ],
      "execution_count": 0,
      "outputs": []
    },
    {
      "cell_type": "code",
      "metadata": {
        "id": "xkZ8467q4D_m",
        "colab_type": "code",
        "outputId": "34425054-2490-4400-f9e3-ab66008533ae",
        "colab": {
          "base_uri": "https://localhost:8080/",
          "height": 85
        }
      },
      "source": [
        "print(\"x_train.shape(学習用の画像データ) : \", x_train.shape)\n",
        "print(\"y_train_shape(学習用の正解データ) : \", y_train.shape)\n",
        "print(\"x_test.shape(検証用の画像データ) : \", x_test.shape)\n",
        "print(\"y_test.shape(検証用の正解データ) : \", y_test.shape)"
      ],
      "execution_count": 21,
      "outputs": [
        {
          "output_type": "stream",
          "text": [
            "x_train.shape(学習用の画像データ) :  (60000, 784)\n",
            "y_train_shape(学習用の正解データ) :  (60000, 10)\n",
            "x_test.shape(検証用の画像データ) :  (10000, 784)\n",
            "y_test.shape(検証用の正解データ) :  (10000, 10)\n"
          ],
          "name": "stdout"
        }
      ]
    },
    {
      "cell_type": "code",
      "metadata": {
        "id": "VfwsHGwG4HRr",
        "colab_type": "code",
        "colab": {}
      },
      "source": [
        "# モデルの構築\n",
        "model = Sequential()\n",
        "model.add(InputLayer(input_shape=(784,)))\n",
        "model.add(Dense(10, activation='softmax'))\n",
        "\n",
        "# モデルをコンパイルする\n",
        "model.compile(loss='categorical_crossentropy', optimizer='rmsprop', metrics=['accuracy'])"
      ],
      "execution_count": 0,
      "outputs": []
    },
    {
      "cell_type": "code",
      "metadata": {
        "id": "uhiJHv005bFa",
        "colab_type": "code",
        "outputId": "829d0e62-7fbe-4303-ff50-cef49f9ef6ca",
        "colab": {
          "base_uri": "https://localhost:8080/",
          "height": 714
        }
      },
      "source": [
        "# 学習\n",
        "epochs = 20\n",
        "batch_size = 128\n",
        "history = model.fit(x_train, y_train, batch_size=batch_size, epochs=epochs, verbose=1, validation_data=(x_test, y_test))"
      ],
      "execution_count": 23,
      "outputs": [
        {
          "output_type": "stream",
          "text": [
            "Train on 60000 samples, validate on 10000 samples\n",
            "Epoch 1/20\n",
            "60000/60000 [==============================] - 2s 36us/step - loss: 0.6112 - acc: 0.8482 - val_loss: 0.3455 - val_acc: 0.9072\n",
            "Epoch 2/20\n",
            "60000/60000 [==============================] - 2s 32us/step - loss: 0.3317 - acc: 0.9082 - val_loss: 0.3013 - val_acc: 0.9170\n",
            "Epoch 3/20\n",
            "60000/60000 [==============================] - 2s 32us/step - loss: 0.3022 - acc: 0.9162 - val_loss: 0.2877 - val_acc: 0.9207\n",
            "Epoch 4/20\n",
            "60000/60000 [==============================] - 2s 33us/step - loss: 0.2886 - acc: 0.9192 - val_loss: 0.2784 - val_acc: 0.9227\n",
            "Epoch 5/20\n",
            "60000/60000 [==============================] - 2s 31us/step - loss: 0.2803 - acc: 0.9220 - val_loss: 0.2736 - val_acc: 0.9249\n",
            "Epoch 6/20\n",
            "60000/60000 [==============================] - 2s 31us/step - loss: 0.2749 - acc: 0.9241 - val_loss: 0.2714 - val_acc: 0.9241\n",
            "Epoch 7/20\n",
            "60000/60000 [==============================] - 2s 32us/step - loss: 0.2705 - acc: 0.9246 - val_loss: 0.2688 - val_acc: 0.9249\n",
            "Epoch 8/20\n",
            "60000/60000 [==============================] - 2s 32us/step - loss: 0.2675 - acc: 0.9265 - val_loss: 0.2689 - val_acc: 0.9254\n",
            "Epoch 9/20\n",
            "60000/60000 [==============================] - 2s 33us/step - loss: 0.2650 - acc: 0.9274 - val_loss: 0.2683 - val_acc: 0.9264\n",
            "Epoch 10/20\n",
            "60000/60000 [==============================] - 2s 32us/step - loss: 0.2629 - acc: 0.9278 - val_loss: 0.2700 - val_acc: 0.9258\n",
            "Epoch 11/20\n",
            "60000/60000 [==============================] - 2s 32us/step - loss: 0.2608 - acc: 0.9285 - val_loss: 0.2690 - val_acc: 0.9265\n",
            "Epoch 12/20\n",
            "60000/60000 [==============================] - 2s 31us/step - loss: 0.2593 - acc: 0.9293 - val_loss: 0.2699 - val_acc: 0.9272\n",
            "Epoch 13/20\n",
            "60000/60000 [==============================] - 2s 30us/step - loss: 0.2581 - acc: 0.9298 - val_loss: 0.2716 - val_acc: 0.9244\n",
            "Epoch 14/20\n",
            "60000/60000 [==============================] - 2s 31us/step - loss: 0.2567 - acc: 0.9308 - val_loss: 0.2679 - val_acc: 0.9278\n",
            "Epoch 15/20\n",
            "60000/60000 [==============================] - 2s 32us/step - loss: 0.2558 - acc: 0.9305 - val_loss: 0.2679 - val_acc: 0.9267\n",
            "Epoch 16/20\n",
            "60000/60000 [==============================] - 2s 31us/step - loss: 0.2548 - acc: 0.9311 - val_loss: 0.2678 - val_acc: 0.9282\n",
            "Epoch 17/20\n",
            "60000/60000 [==============================] - 2s 32us/step - loss: 0.2542 - acc: 0.9314 - val_loss: 0.2708 - val_acc: 0.9254\n",
            "Epoch 18/20\n",
            "60000/60000 [==============================] - 2s 32us/step - loss: 0.2532 - acc: 0.9311 - val_loss: 0.2689 - val_acc: 0.9274\n",
            "Epoch 19/20\n",
            "60000/60000 [==============================] - 2s 31us/step - loss: 0.2524 - acc: 0.9322 - val_loss: 0.2702 - val_acc: 0.9285\n",
            "Epoch 20/20\n",
            "60000/60000 [==============================] - 2s 34us/step - loss: 0.2522 - acc: 0.9321 - val_loss: 0.2697 - val_acc: 0.9285\n"
          ],
          "name": "stdout"
        }
      ]
    },
    {
      "cell_type": "code",
      "metadata": {
        "id": "Yuxm_mB-505F",
        "colab_type": "code",
        "outputId": "1c84c960-cec9-4674-bac2-8ddcada0ef2d",
        "colab": {
          "base_uri": "https://localhost:8080/",
          "height": 85
        }
      },
      "source": [
        "# 学習結果\n",
        "score = model.evaluate(x_test, y_test, verbose=1)\n",
        "print()\n",
        "print('Test loss:', score[0])\n",
        "print('Test accuracy:', score[1])"
      ],
      "execution_count": 24,
      "outputs": [
        {
          "output_type": "stream",
          "text": [
            "10000/10000 [==============================] - 0s 46us/step\n",
            "\n",
            "Test loss: 0.2697074157714844\n",
            "Test accuracy: 0.9285\n"
          ],
          "name": "stdout"
        }
      ]
    },
    {
      "cell_type": "code",
      "metadata": {
        "id": "zLrcrDQ06BFk",
        "colab_type": "code",
        "outputId": "1012f409-1be0-4717-bf73-14aa3fc652d1",
        "colab": {
          "base_uri": "https://localhost:8080/",
          "height": 279
        }
      },
      "source": [
        "# 学習経過の可視化\n",
        "loss     = history.history['loss']\n",
        "val_loss = history.history['val_loss']\n",
        "\n",
        "nb_epoch = len(loss)\n",
        "plt.plot(range(nb_epoch), loss,     marker='.', label='loss')\n",
        "plt.plot(range(nb_epoch), val_loss, marker='.', label='val_loss')\n",
        "plt.legend(loc='best', fontsize=10)\n",
        "plt.grid()\n",
        "plt.xlabel('epoch')\n",
        "plt.ylabel('loss')\n",
        "plt.show()"
      ],
      "execution_count": 25,
      "outputs": [
        {
          "output_type": "display_data",
          "data": {
            "image/png": "[encoded data removed]",
            "text/plain": [
              "<Figure size 432x288 with 1 Axes>"
            ]
          },
          "metadata": {
            "tags": []
          }
        }
      ]
    },
    {
      "cell_type": "markdown",
      "metadata": {
        "id": "SriN-gh48_9-",
        "colab_type": "text"
      },
      "source": [
        "## 畳み込みニューラルネットワーク"
      ]
    },
    {
      "cell_type": "code",
      "metadata": {
        "id": "Tl8yJIYw6u7F",
        "colab_type": "code",
        "colab": {}
      },
      "source": [
        "import tensorflow as tf\n",
        "import keras\n",
        "from keras.datasets import mnist\n",
        "from keras.models import Sequential\n",
        "from keras.layers import Dense, Dropout, InputLayer, Conv2D, MaxPooling2D, Flatten\n",
        "from keras.optimizers import RMSprop\n",
        "\n",
        "import matplotlib.pyplot as plt"
      ],
      "execution_count": 0,
      "outputs": []
    },
    {
      "cell_type": "code",
      "metadata": {
        "id": "sPWKHT5D-Ah3",
        "colab_type": "code",
        "outputId": "74c2ed64-310e-44d8-efaa-ff209e17abab",
        "colab": {
          "base_uri": "https://localhost:8080/",
          "height": 85
        }
      },
      "source": [
        "# データの読み込み\n",
        "(x_train, y_train), (x_test, y_test) = mnist.load_data()\n",
        "print(x_train.shape)\n",
        "print(y_train.shape)\n",
        "print(x_test.shape)\n",
        "print(y_test.shape)"
      ],
      "execution_count": 27,
      "outputs": [
        {
          "output_type": "stream",
          "text": [
            "(60000, 28, 28)\n",
            "(60000,)\n",
            "(10000, 28, 28)\n",
            "(10000,)\n"
          ],
          "name": "stdout"
        }
      ]
    },
    {
      "cell_type": "code",
      "metadata": {
        "id": "UgCSvsl7-i9v",
        "colab_type": "code",
        "outputId": "854c5f53-3962-41a5-b654-e05cdd018cf1",
        "colab": {
          "base_uri": "https://localhost:8080/",
          "height": 85
        }
      },
      "source": [
        "# 入力データの加工\n",
        "\n",
        "## データを float 型に変換\n",
        "x_train = x_train.astype('float32')\n",
        "x_test  = x_test.astype('float32')\n",
        "## 正規化\n",
        "x_train = x_train / 255\n",
        "x_test = x_test / 255\n",
        "## reshape(ミニバッチサイズ、横幅、縦幅、チャネル数に)\n",
        "x_train = x_train.reshape((-1, 28, 28, 1))\n",
        "x_test = x_test.reshape((-1, 28, 28, 1))\n",
        "\n",
        "\n",
        "## 正解データの加工\n",
        "y_train = keras.utils.to_categorical(y_train, 10)\n",
        "y_test = keras.utils.to_categorical(y_test, 10)\n",
        "y_train = y_train.reshape((-1, 10))\n",
        "y_test = y_test.reshape((-1, 10))\n",
        "\n",
        "print(x_train.shape)\n",
        "print(x_test.shape)\n",
        "print(y_train.shape)\n",
        "print(y_test.shape)"
      ],
      "execution_count": 28,
      "outputs": [
        {
          "output_type": "stream",
          "text": [
            "(60000, 28, 28, 1)\n",
            "(10000, 28, 28, 1)\n",
            "(60000, 10)\n",
            "(10000, 10)\n"
          ],
          "name": "stdout"
        }
      ]
    },
    {
      "cell_type": "code",
      "metadata": {
        "id": "dRLZSiJLAA75",
        "colab_type": "code",
        "colab": {}
      },
      "source": [
        "# モデルの構築\n",
        "\n",
        "model = Sequential()\n",
        "\n",
        "## 畳み込み層\n",
        "model.add(\n",
        "    Conv2D(\n",
        "        filters=32,\n",
        "        input_shape=(28, 28, 1),\n",
        "        kernel_size=(3, 3),\n",
        "        strides=(1, 1),\n",
        "        padding='same',\n",
        "        activation='relu'\n",
        "    )\n",
        ")\n",
        "## プーリング層\n",
        "model.add(MaxPooling2D(pool_size=(2,2)))\n",
        "## ドロップアウト層\n",
        "model.add(Dropout(0.25))\n",
        "## Flattenレイヤー\n",
        "model.add(Flatten())\n",
        "## 全結合層\n",
        "model.add(Dense(units=512, activation='relu'))\n",
        "model.add(Dropout(0.5))\n",
        "model.add(Dense(10, activation='softmax'))\n",
        "# モデルをコンパイルする\n",
        "model.compile(loss='categorical_crossentropy', optimizer='rmsprop', metrics=['accuracy'])"
      ],
      "execution_count": 0,
      "outputs": []
    },
    {
      "cell_type": "code",
      "metadata": {
        "id": "cUy7eSJVFOFD",
        "colab_type": "code",
        "outputId": "6bc5ecc1-68b3-425e-e0c7-edd6a7d043da",
        "colab": {
          "base_uri": "https://localhost:8080/",
          "height": 714
        }
      },
      "source": [
        "# 学習\n",
        "epochs = 20\n",
        "batch_size = 128\n",
        "history = model.fit(x_train, y_train, batch_size=batch_size, epochs=epochs, verbose=1, validation_data=(x_test, y_test))"
      ],
      "execution_count": 30,
      "outputs": [
        {
          "output_type": "stream",
          "text": [
            "Train on 60000 samples, validate on 10000 samples\n",
            "Epoch 1/20\n",
            "60000/60000 [==============================] - 6s 102us/step - loss: 0.2513 - acc: 0.9222 - val_loss: 0.0755 - val_acc: 0.9757\n",
            "Epoch 2/20\n",
            "60000/60000 [==============================] - 6s 92us/step - loss: 0.0868 - acc: 0.9745 - val_loss: 0.0510 - val_acc: 0.9826\n",
            "Epoch 3/20\n",
            "60000/60000 [==============================] - 6s 92us/step - loss: 0.0633 - acc: 0.9808 - val_loss: 0.0449 - val_acc: 0.9844\n",
            "Epoch 4/20\n",
            "60000/60000 [==============================] - 6s 93us/step - loss: 0.0521 - acc: 0.9841 - val_loss: 0.0381 - val_acc: 0.9870\n",
            "Epoch 5/20\n",
            "60000/60000 [==============================] - 6s 92us/step - loss: 0.0444 - acc: 0.9868 - val_loss: 0.0439 - val_acc: 0.9853\n",
            "Epoch 6/20\n",
            "60000/60000 [==============================] - 6s 92us/step - loss: 0.0383 - acc: 0.9887 - val_loss: 0.0370 - val_acc: 0.9880\n",
            "Epoch 7/20\n",
            "60000/60000 [==============================] - 6s 92us/step - loss: 0.0346 - acc: 0.9898 - val_loss: 0.0348 - val_acc: 0.9885\n",
            "Epoch 8/20\n",
            "60000/60000 [==============================] - 6s 92us/step - loss: 0.0311 - acc: 0.9906 - val_loss: 0.0366 - val_acc: 0.9884\n",
            "Epoch 9/20\n",
            "60000/60000 [==============================] - 6s 93us/step - loss: 0.0288 - acc: 0.9912 - val_loss: 0.0351 - val_acc: 0.9888\n",
            "Epoch 10/20\n",
            "60000/60000 [==============================] - 6s 92us/step - loss: 0.0289 - acc: 0.9910 - val_loss: 0.0337 - val_acc: 0.9890\n",
            "Epoch 11/20\n",
            "60000/60000 [==============================] - 6s 93us/step - loss: 0.0260 - acc: 0.9922 - val_loss: 0.0353 - val_acc: 0.9892\n",
            "Epoch 12/20\n",
            "60000/60000 [==============================] - 5s 92us/step - loss: 0.0251 - acc: 0.9924 - val_loss: 0.0434 - val_acc: 0.9871\n",
            "Epoch 13/20\n",
            "60000/60000 [==============================] - 6s 92us/step - loss: 0.0246 - acc: 0.9928 - val_loss: 0.0353 - val_acc: 0.9904\n",
            "Epoch 14/20\n",
            "60000/60000 [==============================] - 6s 93us/step - loss: 0.0236 - acc: 0.9927 - val_loss: 0.0393 - val_acc: 0.9890\n",
            "Epoch 15/20\n",
            "60000/60000 [==============================] - 5s 91us/step - loss: 0.0244 - acc: 0.9927 - val_loss: 0.0369 - val_acc: 0.9880\n",
            "Epoch 16/20\n",
            "60000/60000 [==============================] - 6s 93us/step - loss: 0.0229 - acc: 0.9930 - val_loss: 0.0398 - val_acc: 0.9884\n",
            "Epoch 17/20\n",
            "60000/60000 [==============================] - 6s 92us/step - loss: 0.0236 - acc: 0.9933 - val_loss: 0.0388 - val_acc: 0.9883\n",
            "Epoch 18/20\n",
            "60000/60000 [==============================] - 6s 93us/step - loss: 0.0223 - acc: 0.9931 - val_loss: 0.0446 - val_acc: 0.9859\n",
            "Epoch 19/20\n",
            "60000/60000 [==============================] - 5s 91us/step - loss: 0.0232 - acc: 0.9929 - val_loss: 0.0425 - val_acc: 0.9882\n",
            "Epoch 20/20\n",
            "60000/60000 [==============================] - 6s 92us/step - loss: 0.0206 - acc: 0.9936 - val_loss: 0.0419 - val_acc: 0.9876\n"
          ],
          "name": "stdout"
        }
      ]
    },
    {
      "cell_type": "code",
      "metadata": {
        "id": "9xQay3UoHrh4",
        "colab_type": "code",
        "outputId": "a299d989-0e6a-48a3-e0aa-60fa3cbc619f",
        "colab": {
          "base_uri": "https://localhost:8080/",
          "height": 85
        }
      },
      "source": [
        "# モデルの評価\n",
        "score = model.evaluate(x_test, y_test, verbose=1)\n",
        "print()\n",
        "print('Test loss:', score[0])\n",
        "print('Test accuracy:', score[1])"
      ],
      "execution_count": 31,
      "outputs": [
        {
          "output_type": "stream",
          "text": [
            "10000/10000 [==============================] - 1s 80us/step\n",
            "\n",
            "Test loss: 0.041896996196222606\n",
            "Test accuracy: 0.9876\n"
          ],
          "name": "stdout"
        }
      ]
    },
    {
      "cell_type": "code",
      "metadata": {
        "id": "iTJ8C7dILAsC",
        "colab_type": "code",
        "outputId": "1e4cede1-7a17-4698-ba97-7e02b8a49b2a",
        "colab": {
          "base_uri": "https://localhost:8080/",
          "height": 279
        }
      },
      "source": [
        "# 学習経過の可視化\n",
        "loss     = history.history['loss']\n",
        "val_loss = history.history['val_loss']\n",
        "\n",
        "nb_epoch = len(loss)\n",
        "plt.plot(range(nb_epoch), loss,     marker='.', label='loss')\n",
        "plt.plot(range(nb_epoch), val_loss, marker='.', label='val_loss')\n",
        "plt.legend(loc='best', fontsize=10)\n",
        "plt.grid()\n",
        "plt.xlabel('epoch')\n",
        "plt.ylabel('loss')\n",
        "plt.show()"
      ],
      "execution_count": 32,
      "outputs": [
        {
          "output_type": "display_data",
          "data": {
            "image/png": "[encoded data removed]",
            "text/plain": [
              "<Figure size 432x288 with 1 Axes>"
            ]
          },
          "metadata": {
            "tags": []
          }
        }
      ]
    }
  ]
}