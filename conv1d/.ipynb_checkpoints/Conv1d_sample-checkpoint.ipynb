{
 "cells": [
  {
   "cell_type": "code",
   "execution_count": 0,
   "metadata": {
    "colab": {},
    "colab_type": "code",
    "id": "l1HHRlGOnIgo"
   },
   "outputs": [],
   "source": [
    "# Conv1D\n",
    "Conv1Dのサンプルコードです。"
   ]
  },
  {
   "cell_type": "code",
   "execution_count": 1,
   "metadata": {
    "colab": {},
    "colab_type": "code",
    "id": "54PGYXaZnaOe"
   },
   "outputs": [
    {
     "name": "stderr",
     "output_type": "stream",
     "text": [
      "Using TensorFlow backend.\n"
     ]
    }
   ],
   "source": [
    "# ライブラリのimport\n",
    "import tensorflow as tf\n",
    "import keras\n",
    "from keras.datasets import mnist\n",
    "from keras.models import Sequential\n",
    "from keras.layers import Conv1D, MaxPooling1D, Dense, Flatten\n",
    "from keras.optimizers import RMSprop\n",
    "import matplotlib.pyplot as plt"
   ]
  },
  {
   "cell_type": "code",
   "execution_count": 2,
   "metadata": {
    "colab": {},
    "colab_type": "code",
    "id": "8fYI9EmNpSqX"
   },
   "outputs": [],
   "source": [
    "# データのロード\n",
    "(x_train, y_train), (x_test, y_test) = mnist.load_data()\n",
    "\n",
    "# データの加工\n",
    "\n",
    "## 画像データをそれぞれ1次元に\n",
    "x_train = x_train.reshape(60000, 784, 1)\n",
    "x_test = x_test.reshape(10000, 784, 1)\n",
    "\n",
    "## 画像データの正規化し\n",
    "x_train = x_train.astype('float32')\n",
    "x_test = x_test.astype('float32')\n",
    "x_train = x_train/255\n",
    "x_test = x_test/255\n",
    "\n",
    "## 正解データを行列化\n",
    "y_train = keras.utils.to_categorical(y_train, 10)\n",
    "y_test = keras.utils.to_categorical(y_test, 10)"
   ]
  },
  {
   "cell_type": "code",
   "execution_count": 0,
   "metadata": {
    "colab": {},
    "colab_type": "code",
    "id": "qNHneygzrcxN"
   },
   "outputs": [],
   "source": [
    "# モデルの作成\n",
    "model = Sequential()\n",
    "## 畳み込み層\n",
    "model.add(Conv1D(32, 3, padding='same', activation='relu', input_shape=(784, 1)))\n",
    "## プーリング層\n",
    "model.add(MaxPooling1D(2, padding='same'))\n",
    "## Flatten層\n",
    "model.add(Flatten())\n",
    "## 全結合層\n",
    "model.add(Dense(10, activation='softmax'))\n",
    "\n",
    "# モデルをコンパイルする\n",
    "model.compile(loss='categorical_crossentropy', optimizer='rmsprop', metrics=['accuracy'])"
   ]
  },
  {
   "cell_type": "code",
   "execution_count": 25,
   "metadata": {
    "colab": {
     "base_uri": "https://localhost:8080/",
     "height": 1000
    },
    "colab_type": "code",
    "id": "k0hWALCCtqx-",
    "outputId": "b0a9d117-4b5d-42d3-ed66-f1af73937cc8"
   },
   "outputs": [
    {
     "name": "stdout",
     "output_type": "stream",
     "text": [
      "WARNING:tensorflow:From /usr/local/lib/python3.6/dist-packages/tensorflow_core/python/ops/math_grad.py:1424: where (from tensorflow.python.ops.array_ops) is deprecated and will be removed in a future version.\n",
      "Instructions for updating:\n",
      "Use tf.where in 2.0, which has the same broadcast rule as np.where\n",
      "WARNING:tensorflow:From /usr/local/lib/python3.6/dist-packages/keras/backend/tensorflow_backend.py:1033: The name tf.assign_add is deprecated. Please use tf.compat.v1.assign_add instead.\n",
      "\n",
      "WARNING:tensorflow:From /usr/local/lib/python3.6/dist-packages/keras/backend/tensorflow_backend.py:1020: The name tf.assign is deprecated. Please use tf.compat.v1.assign instead.\n",
      "\n",
      "WARNING:tensorflow:From /usr/local/lib/python3.6/dist-packages/keras/backend/tensorflow_backend.py:3005: The name tf.Session is deprecated. Please use tf.compat.v1.Session instead.\n",
      "\n",
      "Train on 60000 samples, validate on 10000 samples\n",
      "Epoch 1/20\n",
      "WARNING:tensorflow:From /usr/local/lib/python3.6/dist-packages/keras/backend/tensorflow_backend.py:190: The name tf.get_default_session is deprecated. Please use tf.compat.v1.get_default_session instead.\n",
      "\n",
      "WARNING:tensorflow:From /usr/local/lib/python3.6/dist-packages/keras/backend/tensorflow_backend.py:197: The name tf.ConfigProto is deprecated. Please use tf.compat.v1.ConfigProto instead.\n",
      "\n",
      "WARNING:tensorflow:From /usr/local/lib/python3.6/dist-packages/keras/backend/tensorflow_backend.py:207: The name tf.global_variables is deprecated. Please use tf.compat.v1.global_variables instead.\n",
      "\n",
      "WARNING:tensorflow:From /usr/local/lib/python3.6/dist-packages/keras/backend/tensorflow_backend.py:216: The name tf.is_variable_initialized is deprecated. Please use tf.compat.v1.is_variable_initialized instead.\n",
      "\n",
      "WARNING:tensorflow:From /usr/local/lib/python3.6/dist-packages/keras/backend/tensorflow_backend.py:223: The name tf.variables_initializer is deprecated. Please use tf.compat.v1.variables_initializer instead.\n",
      "\n",
      "60000/60000 [==============================] - 24s 403us/step - loss: 0.3309 - acc: 0.9071 - val_loss: 0.2032 - val_acc: 0.9421\n",
      "Epoch 2/20\n",
      "60000/60000 [==============================] - 23s 392us/step - loss: 0.1872 - acc: 0.9449 - val_loss: 0.1683 - val_acc: 0.9514\n",
      "Epoch 3/20\n",
      "60000/60000 [==============================] - 23s 390us/step - loss: 0.1584 - acc: 0.9536 - val_loss: 0.1493 - val_acc: 0.9570\n",
      "Epoch 4/20\n",
      "60000/60000 [==============================] - 24s 392us/step - loss: 0.1433 - acc: 0.9576 - val_loss: 0.1506 - val_acc: 0.9549\n",
      "Epoch 5/20\n",
      "60000/60000 [==============================] - 24s 392us/step - loss: 0.1329 - acc: 0.9607 - val_loss: 0.1498 - val_acc: 0.9554\n",
      "Epoch 6/20\n",
      "60000/60000 [==============================] - 23s 391us/step - loss: 0.1254 - acc: 0.9633 - val_loss: 0.1476 - val_acc: 0.9563\n",
      "Epoch 7/20\n",
      "60000/60000 [==============================] - 23s 390us/step - loss: 0.1187 - acc: 0.9650 - val_loss: 0.1394 - val_acc: 0.9587\n",
      "Epoch 8/20\n",
      "60000/60000 [==============================] - 23s 389us/step - loss: 0.1138 - acc: 0.9668 - val_loss: 0.1324 - val_acc: 0.9601\n",
      "Epoch 9/20\n",
      "60000/60000 [==============================] - 24s 392us/step - loss: 0.1088 - acc: 0.9678 - val_loss: 0.1333 - val_acc: 0.9601\n",
      "Epoch 10/20\n",
      "60000/60000 [==============================] - 23s 391us/step - loss: 0.1051 - acc: 0.9697 - val_loss: 0.1329 - val_acc: 0.9606\n",
      "Epoch 11/20\n",
      "60000/60000 [==============================] - 24s 392us/step - loss: 0.1011 - acc: 0.9713 - val_loss: 0.1303 - val_acc: 0.9619\n",
      "Epoch 12/20\n",
      "60000/60000 [==============================] - 23s 390us/step - loss: 0.0971 - acc: 0.9723 - val_loss: 0.1357 - val_acc: 0.9618\n",
      "Epoch 13/20\n",
      "60000/60000 [==============================] - 24s 394us/step - loss: 0.0948 - acc: 0.9728 - val_loss: 0.1289 - val_acc: 0.9614\n",
      "Epoch 14/20\n",
      "60000/60000 [==============================] - 24s 394us/step - loss: 0.0918 - acc: 0.9735 - val_loss: 0.1303 - val_acc: 0.9626\n",
      "Epoch 15/20\n",
      "60000/60000 [==============================] - 24s 393us/step - loss: 0.0886 - acc: 0.9747 - val_loss: 0.1318 - val_acc: 0.9629\n",
      "Epoch 16/20\n",
      "60000/60000 [==============================] - 24s 393us/step - loss: 0.0867 - acc: 0.9755 - val_loss: 0.1328 - val_acc: 0.9633\n",
      "Epoch 17/20\n",
      "60000/60000 [==============================] - 24s 393us/step - loss: 0.0839 - acc: 0.9763 - val_loss: 0.1303 - val_acc: 0.9635\n",
      "Epoch 18/20\n",
      "60000/60000 [==============================] - 24s 393us/step - loss: 0.0817 - acc: 0.9772 - val_loss: 0.1317 - val_acc: 0.9637\n",
      "Epoch 19/20\n",
      "60000/60000 [==============================] - 23s 392us/step - loss: 0.0793 - acc: 0.9776 - val_loss: 0.1325 - val_acc: 0.9630\n",
      "Epoch 20/20\n",
      "60000/60000 [==============================] - 24s 395us/step - loss: 0.0778 - acc: 0.9783 - val_loss: 0.1289 - val_acc: 0.9646\n"
     ]
    }
   ],
   "source": [
    "# 学習\n",
    "epochs = 20\n",
    "batch_size = 128\n",
    "history = model.fit(x_train, y_train, batch_size=batch_size, epochs=epochs, verbose=1, validation_data=(x_test, y_test))"
   ]
  },
  {
   "cell_type": "code",
   "execution_count": 26,
   "metadata": {
    "colab": {
     "base_uri": "https://localhost:8080/",
     "height": 85
    },
    "colab_type": "code",
    "id": "72_WBXaxtxTf",
    "outputId": "6cd4ba41-4579-444d-a585-7636d70a34e8"
   },
   "outputs": [
    {
     "name": "stdout",
     "output_type": "stream",
     "text": [
      "10000/10000 [==============================] - 2s 164us/step\n",
      "\n",
      "Test loss: 0.12892441303804517\n",
      "Test accuracy: 0.9646\n"
     ]
    }
   ],
   "source": [
    "# モデルの評価\n",
    "score = model.evaluate(x_test, y_test, verbose=1)\n",
    "print()\n",
    "print('Test loss:', score[0])\n",
    "print('Test accuracy:', score[1])"
   ]
  },
  {
   "cell_type": "code",
   "execution_count": 27,
   "metadata": {
    "colab": {
     "base_uri": "https://localhost:8080/",
     "height": 279
    },
    "colab_type": "code",
    "id": "-fpjH0MNxm8x",
    "outputId": "accd575f-820f-4bb1-d6e0-23e3ad0394cc"
   },
   "outputs": [
    {
     "data": {
      "image/png": "[encoded data removed]",
      "text/plain": [
       "<Figure size 432x288 with 1 Axes>"
      ]
     },
     "metadata": {
      "tags": []
     },
     "output_type": "display_data"
    }
   ],
   "source": [
    "# 学習経過の可視化\n",
    "loss     = history.history['loss']\n",
    "val_loss = history.history['val_loss']\n",
    "\n",
    "nb_epoch = len(loss)\n",
    "plt.plot(range(nb_epoch), loss,     marker='.', label='loss')\n",
    "plt.plot(range(nb_epoch), val_loss, marker='.', label='val_loss')\n",
    "plt.legend(loc='best', fontsize=10)\n",
    "plt.grid()\n",
    "plt.xlabel('epoch')\n",
    "plt.ylabel('loss')\n",
    "plt.show()"
   ]
  },
  {
   "cell_type": "code",
   "execution_count": 3,
   "metadata": {
    "colab": {},
    "colab_type": "code",
    "id": "oxgDJ8UYxq3h"
   },
   "outputs": [],
   "source": [
    "# モデルの作成\n",
    "model = Sequential()\n",
    "## 畳み込み層\n",
    "model.add(Conv1D(32, 3, padding='same', activation='relu', input_shape=(784, 1)))\n",
    "## プーリング層\n",
    "model.add(MaxPooling1D(2, padding='same'))\n",
    "## Flatten層\n",
    "model.add(Flatten())\n",
    "## 全結合層\n",
    "model.add(Dense(10, activation='softmax'))\n",
    "\n",
    "# モデルをコンパイルする\n",
    "model.compile(loss='categorical_crossentropy', optimizer='adam', metrics=['accuracy'])"
   ]
  },
  {
   "cell_type": "code",
   "execution_count": null,
   "metadata": {},
   "outputs": [
    {
     "name": "stdout",
     "output_type": "stream",
     "text": [
      "Train on 60000 samples, validate on 10000 samples\n",
      "Epoch 1/20\n",
      "31872/60000 [==============>...............] - ETA: 8s - loss: 0.4537 - accuracy: 0.8776"
     ]
    }
   ],
   "source": [
    "# 学習\n",
    "epochs = 20\n",
    "batch_size = 128\n",
    "history = model.fit(x_train, y_train, batch_size=batch_size, epochs=epochs, verbose=1, validation_data=(x_test, y_test))"
   ]
  },
  {
   "cell_type": "code",
   "execution_count": null,
   "metadata": {},
   "outputs": [],
   "source": [
    "# モデルの評価\n",
    "score = model.evaluate(x_test, y_test, verbose=1)\n",
    "print()\n",
    "print('Test loss:', score[0])\n",
    "print('Test accuracy:', score[1])"
   ]
  }
 ],
 "metadata": {
  "colab": {
   "collapsed_sections": [],
   "name": "Conv1d_sample.ipynb",
   "provenance": []
  },
  "kernelspec": {
   "display_name": "Python 3",
   "language": "python",
   "name": "python3"
  },
  "language_info": {
   "codemirror_mode": {
    "name": "ipython",
    "version": 3
   },
   "file_extension": ".py",
   "mimetype": "text/x-python",
   "name": "python",
   "nbconvert_exporter": "python",
   "pygments_lexer": "ipython3",
   "version": "3.6.9"
  }
 },
 "nbformat": 4,
 "nbformat_minor": 1
}
